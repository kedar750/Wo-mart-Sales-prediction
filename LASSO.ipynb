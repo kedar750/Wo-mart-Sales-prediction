{
 "cells": [
  {
   "cell_type": "markdown",
   "id": "d366878e-a8b4-482f-9fef-872c74021328",
   "metadata": {},
   "source": [
    "# 1.Import Libraries"
   ]
  },
  {
   "cell_type": "code",
   "execution_count": 1,
   "id": "0966451b-dcfe-4d5d-9be3-b76e956c1ef8",
   "metadata": {},
   "outputs": [],
   "source": [
    "import pandas as pd #pandas library in python\n",
    "import numpy as np  #numpy library in python\n",
    "import matplotlib.pyplot as plt # visualization library \n",
    "import seaborn as sns           # visualization library\n",
    "sns.set(color_codes = True)\n",
    "%matplotlib inline"
   ]
  },
  {
   "cell_type": "markdown",
   "id": "e288be8e-3992-4dca-b853-67b1dd7cabe5",
   "metadata": {},
   "source": [
    "# 2. Import Data"
   ]
  },
  {
   "cell_type": "code",
   "execution_count": 2,
   "id": "b549bb74-9861-4dd5-8a36-9f7a9ac0e102",
   "metadata": {},
   "outputs": [
    {
     "data": {
      "text/html": [
       "<div>\n",
       "<style scoped>\n",
       "    .dataframe tbody tr th:only-of-type {\n",
       "        vertical-align: middle;\n",
       "    }\n",
       "\n",
       "    .dataframe tbody tr th {\n",
       "        vertical-align: top;\n",
       "    }\n",
       "\n",
       "    .dataframe thead th {\n",
       "        text-align: right;\n",
       "    }\n",
       "</style>\n",
       "<table border=\"1\" class=\"dataframe\">\n",
       "  <thead>\n",
       "    <tr style=\"text-align: right;\">\n",
       "      <th></th>\n",
       "      <th>ID</th>\n",
       "      <th>Store_id</th>\n",
       "      <th>Store_Type</th>\n",
       "      <th>Location_Type</th>\n",
       "      <th>Region_Code</th>\n",
       "      <th>Date</th>\n",
       "      <th>Holiday</th>\n",
       "      <th>Discount</th>\n",
       "      <th>#Order</th>\n",
       "      <th>Sales</th>\n",
       "    </tr>\n",
       "  </thead>\n",
       "  <tbody>\n",
       "    <tr>\n",
       "      <th>0</th>\n",
       "      <td>T1000001</td>\n",
       "      <td>1</td>\n",
       "      <td>S1</td>\n",
       "      <td>L3</td>\n",
       "      <td>R1</td>\n",
       "      <td>2018-01-01</td>\n",
       "      <td>1</td>\n",
       "      <td>Yes</td>\n",
       "      <td>9</td>\n",
       "      <td>7011.84</td>\n",
       "    </tr>\n",
       "    <tr>\n",
       "      <th>1</th>\n",
       "      <td>T1000002</td>\n",
       "      <td>253</td>\n",
       "      <td>S4</td>\n",
       "      <td>L2</td>\n",
       "      <td>R1</td>\n",
       "      <td>2018-01-01</td>\n",
       "      <td>1</td>\n",
       "      <td>Yes</td>\n",
       "      <td>60</td>\n",
       "      <td>51789.12</td>\n",
       "    </tr>\n",
       "    <tr>\n",
       "      <th>2</th>\n",
       "      <td>T1000003</td>\n",
       "      <td>252</td>\n",
       "      <td>S3</td>\n",
       "      <td>L2</td>\n",
       "      <td>R1</td>\n",
       "      <td>2018-01-01</td>\n",
       "      <td>1</td>\n",
       "      <td>Yes</td>\n",
       "      <td>42</td>\n",
       "      <td>36868.20</td>\n",
       "    </tr>\n",
       "    <tr>\n",
       "      <th>3</th>\n",
       "      <td>T1000004</td>\n",
       "      <td>251</td>\n",
       "      <td>S2</td>\n",
       "      <td>L3</td>\n",
       "      <td>R1</td>\n",
       "      <td>2018-01-01</td>\n",
       "      <td>1</td>\n",
       "      <td>Yes</td>\n",
       "      <td>23</td>\n",
       "      <td>19715.16</td>\n",
       "    </tr>\n",
       "    <tr>\n",
       "      <th>4</th>\n",
       "      <td>T1000005</td>\n",
       "      <td>250</td>\n",
       "      <td>S2</td>\n",
       "      <td>L3</td>\n",
       "      <td>R4</td>\n",
       "      <td>2018-01-01</td>\n",
       "      <td>1</td>\n",
       "      <td>Yes</td>\n",
       "      <td>62</td>\n",
       "      <td>45614.52</td>\n",
       "    </tr>\n",
       "  </tbody>\n",
       "</table>\n",
       "</div>"
      ],
      "text/plain": [
       "         ID  Store_id Store_Type Location_Type Region_Code        Date  \\\n",
       "0  T1000001         1         S1            L3          R1  2018-01-01   \n",
       "1  T1000002       253         S4            L2          R1  2018-01-01   \n",
       "2  T1000003       252         S3            L2          R1  2018-01-01   \n",
       "3  T1000004       251         S2            L3          R1  2018-01-01   \n",
       "4  T1000005       250         S2            L3          R4  2018-01-01   \n",
       "\n",
       "   Holiday Discount  #Order     Sales  \n",
       "0        1      Yes       9   7011.84  \n",
       "1        1      Yes      60  51789.12  \n",
       "2        1      Yes      42  36868.20  \n",
       "3        1      Yes      23  19715.16  \n",
       "4        1      Yes      62  45614.52  "
      ]
     },
     "execution_count": 2,
     "metadata": {},
     "output_type": "execute_result"
    }
   ],
   "source": [
    "data = pd.read_csv(\"TRAIN (1).csv\") #Import training data\n",
    "data.head()"
   ]
  },
  {
   "cell_type": "markdown",
   "id": "044598e6-dc4b-4366-a35b-57af518f3e96",
   "metadata": {},
   "source": [
    "# 3.Data Visualization and cleaning\n",
    "let's check with some visualization with given parameter."
   ]
  },
  {
   "cell_type": "code",
   "execution_count": 3,
   "id": "804de7bc-3846-4bc1-8179-8fe87a897864",
   "metadata": {},
   "outputs": [
    {
     "name": "stdout",
     "output_type": "stream",
     "text": [
      "<class 'pandas.core.frame.DataFrame'>\n",
      "RangeIndex: 188340 entries, 0 to 188339\n",
      "Data columns (total 10 columns):\n",
      " #   Column         Non-Null Count   Dtype  \n",
      "---  ------         --------------   -----  \n",
      " 0   ID             188340 non-null  object \n",
      " 1   Store_id       188340 non-null  int64  \n",
      " 2   Store_Type     188340 non-null  object \n",
      " 3   Location_Type  188340 non-null  object \n",
      " 4   Region_Code    188340 non-null  object \n",
      " 5   Date           188340 non-null  object \n",
      " 6   Holiday        188340 non-null  int64  \n",
      " 7   Discount       188340 non-null  object \n",
      " 8   #Order         188340 non-null  int64  \n",
      " 9   Sales          188340 non-null  float64\n",
      "dtypes: float64(1), int64(3), object(6)\n",
      "memory usage: 14.4+ MB\n"
     ]
    }
   ],
   "source": [
    "# Let check null values and also check type of data.\n",
    "data.info()"
   ]
  },
  {
   "cell_type": "code",
   "execution_count": 4,
   "id": "f9d1c446-c228-40f4-8956-43d35c71df98",
   "metadata": {},
   "outputs": [],
   "source": [
    "data[\"Date\"] = data[\"Date\"].astype(\"datetime64[ns]\")"
   ]
  },
  {
   "cell_type": "code",
   "execution_count": 5,
   "id": "db2f2102-b269-41bf-a3ea-81260b307dac",
   "metadata": {},
   "outputs": [
    {
     "data": {
      "text/html": [
       "<div>\n",
       "<style scoped>\n",
       "    .dataframe tbody tr th:only-of-type {\n",
       "        vertical-align: middle;\n",
       "    }\n",
       "\n",
       "    .dataframe tbody tr th {\n",
       "        vertical-align: top;\n",
       "    }\n",
       "\n",
       "    .dataframe thead th {\n",
       "        text-align: right;\n",
       "    }\n",
       "</style>\n",
       "<table border=\"1\" class=\"dataframe\">\n",
       "  <thead>\n",
       "    <tr style=\"text-align: right;\">\n",
       "      <th></th>\n",
       "      <th>Store_id</th>\n",
       "      <th>Sales</th>\n",
       "    </tr>\n",
       "  </thead>\n",
       "  <tbody>\n",
       "    <tr>\n",
       "      <th>0</th>\n",
       "      <td>175</td>\n",
       "      <td>101860.959593</td>\n",
       "    </tr>\n",
       "    <tr>\n",
       "      <th>1</th>\n",
       "      <td>337</td>\n",
       "      <td>95624.840930</td>\n",
       "    </tr>\n",
       "    <tr>\n",
       "      <th>2</th>\n",
       "      <td>126</td>\n",
       "      <td>89829.128895</td>\n",
       "    </tr>\n",
       "    <tr>\n",
       "      <th>3</th>\n",
       "      <td>312</td>\n",
       "      <td>86996.740756</td>\n",
       "    </tr>\n",
       "    <tr>\n",
       "      <th>4</th>\n",
       "      <td>146</td>\n",
       "      <td>84685.447035</td>\n",
       "    </tr>\n",
       "    <tr>\n",
       "      <th>5</th>\n",
       "      <td>160</td>\n",
       "      <td>83666.540814</td>\n",
       "    </tr>\n",
       "    <tr>\n",
       "      <th>6</th>\n",
       "      <td>153</td>\n",
       "      <td>79276.108023</td>\n",
       "    </tr>\n",
       "    <tr>\n",
       "      <th>7</th>\n",
       "      <td>354</td>\n",
       "      <td>75834.546279</td>\n",
       "    </tr>\n",
       "    <tr>\n",
       "      <th>8</th>\n",
       "      <td>173</td>\n",
       "      <td>72455.742733</td>\n",
       "    </tr>\n",
       "    <tr>\n",
       "      <th>9</th>\n",
       "      <td>87</td>\n",
       "      <td>71577.551686</td>\n",
       "    </tr>\n",
       "    <tr>\n",
       "      <th>10</th>\n",
       "      <td>315</td>\n",
       "      <td>71348.549477</td>\n",
       "    </tr>\n",
       "    <tr>\n",
       "      <th>11</th>\n",
       "      <td>85</td>\n",
       "      <td>70165.801686</td>\n",
       "    </tr>\n",
       "    <tr>\n",
       "      <th>12</th>\n",
       "      <td>336</td>\n",
       "      <td>68747.669767</td>\n",
       "    </tr>\n",
       "    <tr>\n",
       "      <th>13</th>\n",
       "      <td>176</td>\n",
       "      <td>68539.327907</td>\n",
       "    </tr>\n",
       "    <tr>\n",
       "      <th>14</th>\n",
       "      <td>131</td>\n",
       "      <td>68161.446977</td>\n",
       "    </tr>\n",
       "    <tr>\n",
       "      <th>15</th>\n",
       "      <td>294</td>\n",
       "      <td>67389.273488</td>\n",
       "    </tr>\n",
       "    <tr>\n",
       "      <th>16</th>\n",
       "      <td>219</td>\n",
       "      <td>66522.084302</td>\n",
       "    </tr>\n",
       "    <tr>\n",
       "      <th>17</th>\n",
       "      <td>150</td>\n",
       "      <td>66455.878256</td>\n",
       "    </tr>\n",
       "    <tr>\n",
       "      <th>18</th>\n",
       "      <td>11</td>\n",
       "      <td>66055.313779</td>\n",
       "    </tr>\n",
       "    <tr>\n",
       "      <th>19</th>\n",
       "      <td>15</td>\n",
       "      <td>64993.929535</td>\n",
       "    </tr>\n",
       "  </tbody>\n",
       "</table>\n",
       "</div>"
      ],
      "text/plain": [
       "    Store_id          Sales\n",
       "0        175  101860.959593\n",
       "1        337   95624.840930\n",
       "2        126   89829.128895\n",
       "3        312   86996.740756\n",
       "4        146   84685.447035\n",
       "5        160   83666.540814\n",
       "6        153   79276.108023\n",
       "7        354   75834.546279\n",
       "8        173   72455.742733\n",
       "9         87   71577.551686\n",
       "10       315   71348.549477\n",
       "11        85   70165.801686\n",
       "12       336   68747.669767\n",
       "13       176   68539.327907\n",
       "14       131   68161.446977\n",
       "15       294   67389.273488\n",
       "16       219   66522.084302\n",
       "17       150   66455.878256\n",
       "18        11   66055.313779\n",
       "19        15   64993.929535"
      ]
     },
     "execution_count": 5,
     "metadata": {},
     "output_type": "execute_result"
    }
   ],
   "source": [
    "# Check each stores sales in overall data and also check which store made more sales. Following visualization you can see top 10 sales of each store.\n",
    "amount_store = data.groupby('Store_id')['Sales'].mean().sort_values(ascending = False).reset_index()\n",
    "top_20_amount_store = amount_store.head(20)\n",
    "top_20_amount_store"
   ]
  },
  {
   "cell_type": "code",
   "execution_count": 6,
   "id": "b940d752-7d8f-4d6e-a942-95c8a333a14c",
   "metadata": {},
   "outputs": [
    {
     "data": {
      "text/plain": [
       "Store_Type\n",
       "S1    37676.511694\n",
       "S2    27530.828222\n",
       "S3    47063.068209\n",
       "S4    59945.685926\n",
       "Name: Sales, dtype: float64"
      ]
     },
     "execution_count": 6,
     "metadata": {},
     "output_type": "execute_result"
    }
   ],
   "source": [
    "# As you can see each store have particular store type and each store also done some sales to store, let check that how much sales had been done by each store type.\n",
    "storetype_groupby = data.groupby('Store_Type')['Sales'].mean()\n",
    "storetype_groupby"
   ]
  },
  {
   "cell_type": "code",
   "execution_count": 7,
   "id": "fa12f63b-33d2-40f8-8956-e7ea5899e6fd",
   "metadata": {},
   "outputs": [
    {
     "data": {
      "text/plain": [
       "<AxesSubplot:xlabel='Store_Type'>"
      ]
     },
     "execution_count": 7,
     "metadata": {},
     "output_type": "execute_result"
    },
    {
     "data": {
      "image/png": "[encoded data removed]",
      "text/plain": [
       "<Figure size 1440x576 with 1 Axes>"
      ]
     },
     "metadata": {
      "needs_background": "light"
     },
     "output_type": "display_data"
    }
   ],
   "source": [
    "plt.figure(figsize = (20,8))\n",
    "sns.barplot(x = storetype_groupby.index,y=storetype_groupby.values,palette = 'rocket')"
   ]
  },
  {
   "cell_type": "code",
   "execution_count": 8,
   "id": "41bed896-16fd-4f6a-a1cc-b04ee006b360",
   "metadata": {},
   "outputs": [
    {
     "data": {
      "text/plain": [
       "Location_Type\n",
       "L1    41453.597889\n",
       "L2    59231.480373\n",
       "L3    33072.257756\n",
       "L4    29067.414313\n",
       "L5    25187.787261\n",
       "Name: Sales, dtype: float64"
      ]
     },
     "execution_count": 8,
     "metadata": {},
     "output_type": "execute_result"
    }
   ],
   "source": [
    "#Each store having location and in particualr location there are so many stores under each location, lets check how much sales had been done by location wise.\n",
    "storeloc_groupby = data.groupby('Location_Type')['Sales'].mean()\n",
    "storeloc_groupby"
   ]
  },
  {
   "cell_type": "code",
   "execution_count": 9,
   "id": "e610b7a1-b3cc-43ad-a850-4e13d1b9f275",
   "metadata": {},
   "outputs": [
    {
     "data": {
      "text/plain": [
       "Text(0, 0.5, 'Mean of Sales of store type')"
      ]
     },
     "execution_count": 9,
     "metadata": {},
     "output_type": "execute_result"
    },
    {
     "data": {
      "image/png": "[encoded data removed]",
      "text/plain": [
       "<Figure size 864x288 with 1 Axes>"
      ]
     },
     "metadata": {
      "needs_background": "light"
     },
     "output_type": "display_data"
    }
   ],
   "source": [
    "ax = sns.lineplot(x=storeloc_groupby.index, y= storeloc_groupby.values)\n",
    "plt.scatter(x=storeloc_groupby.index, y= storeloc_groupby.values, c = 'r')\n",
    "ax.figure.set_figwidth(12)\n",
    "ax.figure.set_figheight(4)\n",
    "ax.set_ylabel(\"Mean of Sales of store type\")"
   ]
  },
  {
   "cell_type": "code",
   "execution_count": 10,
   "id": "e5b10a9f-2baf-4721-917c-41eff3d5ce76",
   "metadata": {},
   "outputs": [
    {
     "data": {
      "text/plain": [
       "Region_Code\n",
       "R1    46765.488405\n",
       "R2    40054.847344\n",
       "R3    42144.517063\n",
       "R4    39743.434249\n",
       "Name: Sales, dtype: float64"
      ]
     },
     "execution_count": 10,
     "metadata": {},
     "output_type": "execute_result"
    }
   ],
   "source": [
    "# Lets check sales according to region wise.\n",
    "region_groupby = data.groupby('Region_Code')['Sales'].mean()\n",
    "region_groupby"
   ]
  },
  {
   "cell_type": "code",
   "execution_count": 11,
   "id": "c499b7f6-e9a6-4108-b78e-5674303f5a3e",
   "metadata": {},
   "outputs": [
    {
     "data": {
      "text/plain": [
       "([0, 1, 2, 3],\n",
       " [Text(0, 0, ''), Text(0, 0, ''), Text(0, 0, ''), Text(0, 0, '')])"
      ]
     },
     "execution_count": 11,
     "metadata": {},
     "output_type": "execute_result"
    },
    {
     "data": {
      "image/png": "[encoded data removed]",
      "text/plain": [
       "<Figure size 1080x432 with 1 Axes>"
      ]
     },
     "metadata": {
      "needs_background": "light"
     },
     "output_type": "display_data"
    }
   ],
   "source": [
    "fig, ax = plt.subplots()\n",
    "fig.set_figwidth(15)\n",
    "fig.set_figheight(6)\n",
    "ax.bar(x = region_groupby.index, height =  region_groupby.values)\n",
    "ax.set_xlabel('Region Id')\n",
    "ax.set_ylabel('Sales')\n",
    "ax.set_title('Sales of region type')\n",
    "for i, v in enumerate(region_groupby.values):\n",
    "    ax.text(i, v, s = (\"%.2f\" % v), color='black', fontweight='bold', fontsize = 12) # %.2f will print decimals upto 2 places\n",
    "plt.xticks(rotation=45) # this line will rotate the x axis label in 45 degrees to make it more readable"
   ]
  },
  {
   "cell_type": "code",
   "execution_count": 12,
   "id": "c2b7939d-3a33-4717-93e1-b308e8e81879",
   "metadata": {},
   "outputs": [
    {
     "data": {
      "text/html": [
       "<div>\n",
       "<style scoped>\n",
       "    .dataframe tbody tr th:only-of-type {\n",
       "        vertical-align: middle;\n",
       "    }\n",
       "\n",
       "    .dataframe tbody tr th {\n",
       "        vertical-align: top;\n",
       "    }\n",
       "\n",
       "    .dataframe thead th {\n",
       "        text-align: right;\n",
       "    }\n",
       "</style>\n",
       "<table border=\"1\" class=\"dataframe\">\n",
       "  <thead>\n",
       "    <tr style=\"text-align: right;\">\n",
       "      <th></th>\n",
       "      <th>ID</th>\n",
       "      <th>Store_id</th>\n",
       "      <th>Store_Type</th>\n",
       "      <th>Location_Type</th>\n",
       "      <th>Region_Code</th>\n",
       "      <th>Date</th>\n",
       "      <th>Holiday</th>\n",
       "      <th>Discount</th>\n",
       "      <th>#Order</th>\n",
       "      <th>Sales</th>\n",
       "    </tr>\n",
       "  </thead>\n",
       "  <tbody>\n",
       "    <tr>\n",
       "      <th>0</th>\n",
       "      <td>T1000001</td>\n",
       "      <td>1</td>\n",
       "      <td>S1</td>\n",
       "      <td>L3</td>\n",
       "      <td>R1</td>\n",
       "      <td>2018-01-01</td>\n",
       "      <td>1</td>\n",
       "      <td>Yes</td>\n",
       "      <td>9</td>\n",
       "      <td>7011.84</td>\n",
       "    </tr>\n",
       "    <tr>\n",
       "      <th>1</th>\n",
       "      <td>T1000002</td>\n",
       "      <td>253</td>\n",
       "      <td>S4</td>\n",
       "      <td>L2</td>\n",
       "      <td>R1</td>\n",
       "      <td>2018-01-01</td>\n",
       "      <td>1</td>\n",
       "      <td>Yes</td>\n",
       "      <td>60</td>\n",
       "      <td>51789.12</td>\n",
       "    </tr>\n",
       "    <tr>\n",
       "      <th>2</th>\n",
       "      <td>T1000003</td>\n",
       "      <td>252</td>\n",
       "      <td>S3</td>\n",
       "      <td>L2</td>\n",
       "      <td>R1</td>\n",
       "      <td>2018-01-01</td>\n",
       "      <td>1</td>\n",
       "      <td>Yes</td>\n",
       "      <td>42</td>\n",
       "      <td>36868.20</td>\n",
       "    </tr>\n",
       "    <tr>\n",
       "      <th>3</th>\n",
       "      <td>T1000004</td>\n",
       "      <td>251</td>\n",
       "      <td>S2</td>\n",
       "      <td>L3</td>\n",
       "      <td>R1</td>\n",
       "      <td>2018-01-01</td>\n",
       "      <td>1</td>\n",
       "      <td>Yes</td>\n",
       "      <td>23</td>\n",
       "      <td>19715.16</td>\n",
       "    </tr>\n",
       "    <tr>\n",
       "      <th>4</th>\n",
       "      <td>T1000005</td>\n",
       "      <td>250</td>\n",
       "      <td>S2</td>\n",
       "      <td>L3</td>\n",
       "      <td>R4</td>\n",
       "      <td>2018-01-01</td>\n",
       "      <td>1</td>\n",
       "      <td>Yes</td>\n",
       "      <td>62</td>\n",
       "      <td>45614.52</td>\n",
       "    </tr>\n",
       "  </tbody>\n",
       "</table>\n",
       "</div>"
      ],
      "text/plain": [
       "         ID  Store_id Store_Type Location_Type Region_Code       Date  \\\n",
       "0  T1000001         1         S1            L3          R1 2018-01-01   \n",
       "1  T1000002       253         S4            L2          R1 2018-01-01   \n",
       "2  T1000003       252         S3            L2          R1 2018-01-01   \n",
       "3  T1000004       251         S2            L3          R1 2018-01-01   \n",
       "4  T1000005       250         S2            L3          R4 2018-01-01   \n",
       "\n",
       "   Holiday Discount  #Order     Sales  \n",
       "0        1      Yes       9   7011.84  \n",
       "1        1      Yes      60  51789.12  \n",
       "2        1      Yes      42  36868.20  \n",
       "3        1      Yes      23  19715.16  \n",
       "4        1      Yes      62  45614.52  "
      ]
     },
     "execution_count": 12,
     "metadata": {},
     "output_type": "execute_result"
    }
   ],
   "source": [
    "data.head()"
   ]
  },
  {
   "cell_type": "code",
   "execution_count": 13,
   "id": "eb9f71f0-1e08-43bb-84f6-9f9be8ce65e4",
   "metadata": {},
   "outputs": [
    {
     "data": {
      "text/html": [
       "<div>\n",
       "<style scoped>\n",
       "    .dataframe tbody tr th:only-of-type {\n",
       "        vertical-align: middle;\n",
       "    }\n",
       "\n",
       "    .dataframe tbody tr th {\n",
       "        vertical-align: top;\n",
       "    }\n",
       "\n",
       "    .dataframe thead th {\n",
       "        text-align: right;\n",
       "    }\n",
       "</style>\n",
       "<table border=\"1\" class=\"dataframe\">\n",
       "  <thead>\n",
       "    <tr style=\"text-align: right;\">\n",
       "      <th></th>\n",
       "      <th>ID</th>\n",
       "      <th>Store_id</th>\n",
       "      <th>Store_Type</th>\n",
       "      <th>Location_Type</th>\n",
       "      <th>Region_Code</th>\n",
       "      <th>Date</th>\n",
       "      <th>Holiday</th>\n",
       "      <th>Discount</th>\n",
       "      <th>#Order</th>\n",
       "      <th>Sales</th>\n",
       "    </tr>\n",
       "  </thead>\n",
       "  <tbody>\n",
       "    <tr>\n",
       "      <th>178648</th>\n",
       "      <td>T1178649</td>\n",
       "      <td>175</td>\n",
       "      <td>S4</td>\n",
       "      <td>L2</td>\n",
       "      <td>R1</td>\n",
       "      <td>2019-05-05</td>\n",
       "      <td>0</td>\n",
       "      <td>Yes</td>\n",
       "      <td>371</td>\n",
       "      <td>247215.00</td>\n",
       "    </tr>\n",
       "    <tr>\n",
       "      <th>178304</th>\n",
       "      <td>T1178305</td>\n",
       "      <td>175</td>\n",
       "      <td>S4</td>\n",
       "      <td>L2</td>\n",
       "      <td>R1</td>\n",
       "      <td>2019-05-04</td>\n",
       "      <td>0</td>\n",
       "      <td>Yes</td>\n",
       "      <td>348</td>\n",
       "      <td>222516.00</td>\n",
       "    </tr>\n",
       "    <tr>\n",
       "      <th>68703</th>\n",
       "      <td>T1068704</td>\n",
       "      <td>175</td>\n",
       "      <td>S4</td>\n",
       "      <td>L2</td>\n",
       "      <td>R1</td>\n",
       "      <td>2018-07-08</td>\n",
       "      <td>0</td>\n",
       "      <td>Yes</td>\n",
       "      <td>333</td>\n",
       "      <td>203337.00</td>\n",
       "    </tr>\n",
       "    <tr>\n",
       "      <th>155790</th>\n",
       "      <td>T1155791</td>\n",
       "      <td>175</td>\n",
       "      <td>S4</td>\n",
       "      <td>L2</td>\n",
       "      <td>R1</td>\n",
       "      <td>2019-03-03</td>\n",
       "      <td>0</td>\n",
       "      <td>Yes</td>\n",
       "      <td>347</td>\n",
       "      <td>200742.00</td>\n",
       "    </tr>\n",
       "    <tr>\n",
       "      <th>183128</th>\n",
       "      <td>T1183129</td>\n",
       "      <td>175</td>\n",
       "      <td>S4</td>\n",
       "      <td>L2</td>\n",
       "      <td>R1</td>\n",
       "      <td>2019-05-17</td>\n",
       "      <td>0</td>\n",
       "      <td>Yes</td>\n",
       "      <td>309</td>\n",
       "      <td>199839.00</td>\n",
       "    </tr>\n",
       "    <tr>\n",
       "      <th>183251</th>\n",
       "      <td>T1183252</td>\n",
       "      <td>175</td>\n",
       "      <td>S4</td>\n",
       "      <td>L2</td>\n",
       "      <td>R1</td>\n",
       "      <td>2019-05-18</td>\n",
       "      <td>1</td>\n",
       "      <td>No</td>\n",
       "      <td>361</td>\n",
       "      <td>197840.61</td>\n",
       "    </tr>\n",
       "    <tr>\n",
       "      <th>156109</th>\n",
       "      <td>T1156110</td>\n",
       "      <td>175</td>\n",
       "      <td>S4</td>\n",
       "      <td>L2</td>\n",
       "      <td>R1</td>\n",
       "      <td>2019-03-04</td>\n",
       "      <td>1</td>\n",
       "      <td>No</td>\n",
       "      <td>293</td>\n",
       "      <td>196727.16</td>\n",
       "    </tr>\n",
       "    <tr>\n",
       "      <th>182587</th>\n",
       "      <td>T1182588</td>\n",
       "      <td>175</td>\n",
       "      <td>S4</td>\n",
       "      <td>L2</td>\n",
       "      <td>R1</td>\n",
       "      <td>2019-05-16</td>\n",
       "      <td>0</td>\n",
       "      <td>Yes</td>\n",
       "      <td>294</td>\n",
       "      <td>187428.00</td>\n",
       "    </tr>\n",
       "    <tr>\n",
       "      <th>128679</th>\n",
       "      <td>T1128680</td>\n",
       "      <td>175</td>\n",
       "      <td>S4</td>\n",
       "      <td>L2</td>\n",
       "      <td>R1</td>\n",
       "      <td>2018-12-19</td>\n",
       "      <td>0</td>\n",
       "      <td>Yes</td>\n",
       "      <td>269</td>\n",
       "      <td>187077.00</td>\n",
       "    </tr>\n",
       "    <tr>\n",
       "      <th>136956</th>\n",
       "      <td>T1136957</td>\n",
       "      <td>175</td>\n",
       "      <td>S4</td>\n",
       "      <td>L2</td>\n",
       "      <td>R1</td>\n",
       "      <td>2019-01-11</td>\n",
       "      <td>0</td>\n",
       "      <td>Yes</td>\n",
       "      <td>273</td>\n",
       "      <td>186444.00</td>\n",
       "    </tr>\n",
       "  </tbody>\n",
       "</table>\n",
       "</div>"
      ],
      "text/plain": [
       "              ID  Store_id Store_Type Location_Type Region_Code       Date  \\\n",
       "178648  T1178649       175         S4            L2          R1 2019-05-05   \n",
       "178304  T1178305       175         S4            L2          R1 2019-05-04   \n",
       "68703   T1068704       175         S4            L2          R1 2018-07-08   \n",
       "155790  T1155791       175         S4            L2          R1 2019-03-03   \n",
       "183128  T1183129       175         S4            L2          R1 2019-05-17   \n",
       "183251  T1183252       175         S4            L2          R1 2019-05-18   \n",
       "156109  T1156110       175         S4            L2          R1 2019-03-04   \n",
       "182587  T1182588       175         S4            L2          R1 2019-05-16   \n",
       "128679  T1128680       175         S4            L2          R1 2018-12-19   \n",
       "136956  T1136957       175         S4            L2          R1 2019-01-11   \n",
       "\n",
       "        Holiday Discount  #Order      Sales  \n",
       "178648        0      Yes     371  247215.00  \n",
       "178304        0      Yes     348  222516.00  \n",
       "68703         0      Yes     333  203337.00  \n",
       "155790        0      Yes     347  200742.00  \n",
       "183128        0      Yes     309  199839.00  \n",
       "183251        1       No     361  197840.61  \n",
       "156109        1       No     293  196727.16  \n",
       "182587        0      Yes     294  187428.00  \n",
       "128679        0      Yes     269  187077.00  \n",
       "136956        0      Yes     273  186444.00  "
      ]
     },
     "execution_count": 13,
     "metadata": {},
     "output_type": "execute_result"
    }
   ],
   "source": [
    "# Each store done sales for each date, lets check about highest sales of store,whether on which particular date that store is generated maximum sales.\n",
    "highest_sale_store = data[data['Store_id']==175]\n",
    "top_10_days_highest_sale_store = highest_sale_store.sort_values(by = 'Sales',ascending = False).head(10)\n",
    "top_10_days_highest_sale_store"
   ]
  },
  {
   "cell_type": "code",
   "execution_count": 14,
   "id": "c6cce6ed-9f42-4605-a389-3be2997546ad",
   "metadata": {},
   "outputs": [
    {
     "data": {
      "text/plain": [
       "<matplotlib.collections.PathCollection at 0x1d826568220>"
      ]
     },
     "execution_count": 14,
     "metadata": {},
     "output_type": "execute_result"
    },
    {
     "data": {
      "image/png": "[encoded data removed]",
      "text/plain": [
       "<Figure size 1440x648 with 1 Axes>"
      ]
     },
     "metadata": {
      "needs_background": "light"
     },
     "output_type": "display_data"
    }
   ],
   "source": [
    "plt.figure(figsize = (20,9))\n",
    "sns.lineplot(x = 'Date',y = 'Sales',data= top_10_days_highest_sale_store)\n",
    "plt.scatter(x='Date', y= 'Sales',data =top_10_days_highest_sale_store,  c = 'r')"
   ]
  },
  {
   "cell_type": "code",
   "execution_count": 15,
   "id": "e669a5b7-34d1-49d0-9871-3d898676f110",
   "metadata": {},
   "outputs": [
    {
     "data": {
      "text/html": [
       "<div>\n",
       "<style scoped>\n",
       "    .dataframe tbody tr th:only-of-type {\n",
       "        vertical-align: middle;\n",
       "    }\n",
       "\n",
       "    .dataframe tbody tr th {\n",
       "        vertical-align: top;\n",
       "    }\n",
       "\n",
       "    .dataframe thead th {\n",
       "        text-align: right;\n",
       "    }\n",
       "</style>\n",
       "<table border=\"1\" class=\"dataframe\">\n",
       "  <thead>\n",
       "    <tr style=\"text-align: right;\">\n",
       "      <th></th>\n",
       "      <th>Date</th>\n",
       "      <th>Sales</th>\n",
       "    </tr>\n",
       "  </thead>\n",
       "  <tbody>\n",
       "    <tr>\n",
       "      <th>488</th>\n",
       "      <td>2019-05-04</td>\n",
       "      <td>26870817.00</td>\n",
       "    </tr>\n",
       "    <tr>\n",
       "      <th>124</th>\n",
       "      <td>2018-05-05</td>\n",
       "      <td>24441480.00</td>\n",
       "    </tr>\n",
       "    <tr>\n",
       "      <th>27</th>\n",
       "      <td>2018-01-28</td>\n",
       "      <td>24070617.00</td>\n",
       "    </tr>\n",
       "    <tr>\n",
       "      <th>187</th>\n",
       "      <td>2018-07-07</td>\n",
       "      <td>24055308.00</td>\n",
       "    </tr>\n",
       "    <tr>\n",
       "      <th>376</th>\n",
       "      <td>2019-01-12</td>\n",
       "      <td>24039663.00</td>\n",
       "    </tr>\n",
       "    <tr>\n",
       "      <th>181</th>\n",
       "      <td>2018-07-01</td>\n",
       "      <td>23945358.00</td>\n",
       "    </tr>\n",
       "    <tr>\n",
       "      <th>180</th>\n",
       "      <td>2018-06-30</td>\n",
       "      <td>23728515.00</td>\n",
       "    </tr>\n",
       "    <tr>\n",
       "      <th>377</th>\n",
       "      <td>2019-01-13</td>\n",
       "      <td>23345691.42</td>\n",
       "    </tr>\n",
       "    <tr>\n",
       "      <th>485</th>\n",
       "      <td>2019-05-01</td>\n",
       "      <td>22924065.00</td>\n",
       "    </tr>\n",
       "    <tr>\n",
       "      <th>4</th>\n",
       "      <td>2018-01-05</td>\n",
       "      <td>22902651.00</td>\n",
       "    </tr>\n",
       "  </tbody>\n",
       "</table>\n",
       "</div>"
      ],
      "text/plain": [
       "          Date        Sales\n",
       "488 2019-05-04  26870817.00\n",
       "124 2018-05-05  24441480.00\n",
       "27  2018-01-28  24070617.00\n",
       "187 2018-07-07  24055308.00\n",
       "376 2019-01-12  24039663.00\n",
       "181 2018-07-01  23945358.00\n",
       "180 2018-06-30  23728515.00\n",
       "377 2019-01-13  23345691.42\n",
       "485 2019-05-01  22924065.00\n",
       "4   2018-01-05  22902651.00"
      ]
     },
     "execution_count": 15,
     "metadata": {},
     "output_type": "execute_result"
    }
   ],
   "source": [
    "# paricular date wise lets check how much sales had been done.\n",
    "date_groupby = data.groupby('Date')['Sales'].sum().reset_index().sort_values(by='Sales',ascending = False).head(10)\n",
    "date_groupby"
   ]
  },
  {
   "cell_type": "code",
   "execution_count": 16,
   "id": "2605e0c4-ac5a-4f83-894a-97383717eecb",
   "metadata": {},
   "outputs": [
    {
     "data": {
      "text/plain": [
       "<AxesSubplot:xlabel='Date', ylabel='Sales'>"
      ]
     },
     "execution_count": 16,
     "metadata": {},
     "output_type": "execute_result"
    },
    {
     "data": {
      "image/png": "[encoded data removed]",
      "text/plain": [
       "<Figure size 1440x504 with 1 Axes>"
      ]
     },
     "metadata": {
      "needs_background": "light"
     },
     "output_type": "display_data"
    }
   ],
   "source": [
    "plt.figure(figsize=(20,7))\n",
    "sns.barplot(x = 'Date',y='Sales',data = date_groupby,palette = 'spring')"
   ]
  },
  {
   "cell_type": "markdown",
   "id": "5023d9bf-b5d2-420c-b59d-90855d773a89",
   "metadata": {},
   "source": [
    "As we done visualization on sales parameter, same we can do on order as well.let's see with orders whether which store had max order and also we will be going to see region, location and store type as well."
   ]
  },
  {
   "cell_type": "code",
   "execution_count": 17,
   "id": "3c401f37-9e85-459f-ae4b-8cbf7fcf3847",
   "metadata": {},
   "outputs": [
    {
     "data": {
      "text/html": [
       "<div>\n",
       "<style scoped>\n",
       "    .dataframe tbody tr th:only-of-type {\n",
       "        vertical-align: middle;\n",
       "    }\n",
       "\n",
       "    .dataframe tbody tr th {\n",
       "        vertical-align: top;\n",
       "    }\n",
       "\n",
       "    .dataframe thead th {\n",
       "        text-align: right;\n",
       "    }\n",
       "</style>\n",
       "<table border=\"1\" class=\"dataframe\">\n",
       "  <thead>\n",
       "    <tr style=\"text-align: right;\">\n",
       "      <th></th>\n",
       "      <th>ID</th>\n",
       "      <th>Store_id</th>\n",
       "      <th>Store_Type</th>\n",
       "      <th>Location_Type</th>\n",
       "      <th>Region_Code</th>\n",
       "      <th>Date</th>\n",
       "      <th>Holiday</th>\n",
       "      <th>Discount</th>\n",
       "      <th>#Order</th>\n",
       "      <th>Sales</th>\n",
       "    </tr>\n",
       "  </thead>\n",
       "  <tbody>\n",
       "    <tr>\n",
       "      <th>0</th>\n",
       "      <td>T1000001</td>\n",
       "      <td>1</td>\n",
       "      <td>S1</td>\n",
       "      <td>L3</td>\n",
       "      <td>R1</td>\n",
       "      <td>2018-01-01</td>\n",
       "      <td>1</td>\n",
       "      <td>Yes</td>\n",
       "      <td>9</td>\n",
       "      <td>7011.84</td>\n",
       "    </tr>\n",
       "    <tr>\n",
       "      <th>1</th>\n",
       "      <td>T1000002</td>\n",
       "      <td>253</td>\n",
       "      <td>S4</td>\n",
       "      <td>L2</td>\n",
       "      <td>R1</td>\n",
       "      <td>2018-01-01</td>\n",
       "      <td>1</td>\n",
       "      <td>Yes</td>\n",
       "      <td>60</td>\n",
       "      <td>51789.12</td>\n",
       "    </tr>\n",
       "    <tr>\n",
       "      <th>2</th>\n",
       "      <td>T1000003</td>\n",
       "      <td>252</td>\n",
       "      <td>S3</td>\n",
       "      <td>L2</td>\n",
       "      <td>R1</td>\n",
       "      <td>2018-01-01</td>\n",
       "      <td>1</td>\n",
       "      <td>Yes</td>\n",
       "      <td>42</td>\n",
       "      <td>36868.20</td>\n",
       "    </tr>\n",
       "    <tr>\n",
       "      <th>3</th>\n",
       "      <td>T1000004</td>\n",
       "      <td>251</td>\n",
       "      <td>S2</td>\n",
       "      <td>L3</td>\n",
       "      <td>R1</td>\n",
       "      <td>2018-01-01</td>\n",
       "      <td>1</td>\n",
       "      <td>Yes</td>\n",
       "      <td>23</td>\n",
       "      <td>19715.16</td>\n",
       "    </tr>\n",
       "    <tr>\n",
       "      <th>4</th>\n",
       "      <td>T1000005</td>\n",
       "      <td>250</td>\n",
       "      <td>S2</td>\n",
       "      <td>L3</td>\n",
       "      <td>R4</td>\n",
       "      <td>2018-01-01</td>\n",
       "      <td>1</td>\n",
       "      <td>Yes</td>\n",
       "      <td>62</td>\n",
       "      <td>45614.52</td>\n",
       "    </tr>\n",
       "  </tbody>\n",
       "</table>\n",
       "</div>"
      ],
      "text/plain": [
       "         ID  Store_id Store_Type Location_Type Region_Code       Date  \\\n",
       "0  T1000001         1         S1            L3          R1 2018-01-01   \n",
       "1  T1000002       253         S4            L2          R1 2018-01-01   \n",
       "2  T1000003       252         S3            L2          R1 2018-01-01   \n",
       "3  T1000004       251         S2            L3          R1 2018-01-01   \n",
       "4  T1000005       250         S2            L3          R4 2018-01-01   \n",
       "\n",
       "   Holiday Discount  #Order     Sales  \n",
       "0        1      Yes       9   7011.84  \n",
       "1        1      Yes      60  51789.12  \n",
       "2        1      Yes      42  36868.20  \n",
       "3        1      Yes      23  19715.16  \n",
       "4        1      Yes      62  45614.52  "
      ]
     },
     "execution_count": 17,
     "metadata": {},
     "output_type": "execute_result"
    }
   ],
   "source": [
    "data.head()"
   ]
  },
  {
   "cell_type": "code",
   "execution_count": 18,
   "id": "e4a5a13b-9b58-4e8a-94c4-48e36259491e",
   "metadata": {},
   "outputs": [
    {
     "data": {
      "text/plain": [
       "<AxesSubplot:xlabel='Store_id', ylabel='#Order'>"
      ]
     },
     "execution_count": 18,
     "metadata": {},
     "output_type": "execute_result"
    },
    {
     "data": {
      "image/png": "[encoded data removed]",
      "text/plain": [
       "<Figure size 1440x720 with 1 Axes>"
      ]
     },
     "metadata": {
      "needs_background": "light"
     },
     "output_type": "display_data"
    }
   ],
   "source": [
    "plt.subplots(figsize=(20,10))\n",
    "\n",
    "#In the plot you can see sum of all the order of store and also you can see which store type had more orders.\n",
    "plt.subplot(231)\n",
    "store_order_groupby = data.groupby(['Store_id','Store_Type']).sum().reset_index().sort_values(by = '#Order',ascending = False).head(10)\n",
    "sns.barplot(x = 'Store_id',y = '#Order',hue = 'Store_Type',data = store_order_groupby,palette = 'rocket')\n"
   ]
  },
  {
   "cell_type": "code",
   "execution_count": 19,
   "id": "a241574e-bc4a-4bf5-aa9e-a499c67164b6",
   "metadata": {},
   "outputs": [
    {
     "data": {
      "text/plain": [
       "<AxesSubplot:ylabel='Sales'>"
      ]
     },
     "execution_count": 19,
     "metadata": {},
     "output_type": "execute_result"
    },
    {
     "data": {
      "image/png": "[encoded data removed]",
      "text/plain": [
       "<Figure size 432x288 with 1 Axes>"
      ]
     },
     "metadata": {
      "needs_background": "light"
     },
     "output_type": "display_data"
    }
   ],
   "source": [
    "#Data having outliers and thus we may face more error so lets tackle with outliers.\n",
    "sns.boxplot(y = 'Sales',data = data)"
   ]
  },
  {
   "cell_type": "markdown",
   "id": "34dc8fff-9b79-48df-924f-32a8af96d645",
   "metadata": {},
   "source": [
    "# 3.Data Preprocessing\n",
    "- Start with Preprocessing, let again import the data or you can copy same data, i would prefer to go with fresh data.\n",
    "- In preprocessing, I convert categorical features into numerical one, also those features are not important for buidling model or predicting sales values those features are removed and also as we have date columns and this also very important feature for predicting sales values so convert this into single-single column and finally go with model selection. For neat and clean code I removed other alogorthims and took only that model which is giving high accuracy. "
   ]
  },
  {
   "cell_type": "code",
   "execution_count": 21,
   "id": "71f6c3b5-a804-4abf-9413-72e2c8053bc1",
   "metadata": {},
   "outputs": [
    {
     "data": {
      "text/html": [
       "<div>\n",
       "<style scoped>\n",
       "    .dataframe tbody tr th:only-of-type {\n",
       "        vertical-align: middle;\n",
       "    }\n",
       "\n",
       "    .dataframe tbody tr th {\n",
       "        vertical-align: top;\n",
       "    }\n",
       "\n",
       "    .dataframe thead th {\n",
       "        text-align: right;\n",
       "    }\n",
       "</style>\n",
       "<table border=\"1\" class=\"dataframe\">\n",
       "  <thead>\n",
       "    <tr style=\"text-align: right;\">\n",
       "      <th></th>\n",
       "      <th>ID</th>\n",
       "      <th>Store_id</th>\n",
       "      <th>Store_Type</th>\n",
       "      <th>Location_Type</th>\n",
       "      <th>Region_Code</th>\n",
       "      <th>Date</th>\n",
       "      <th>Holiday</th>\n",
       "      <th>Discount</th>\n",
       "      <th>#Order</th>\n",
       "      <th>Sales</th>\n",
       "    </tr>\n",
       "  </thead>\n",
       "  <tbody>\n",
       "    <tr>\n",
       "      <th>0</th>\n",
       "      <td>T1000001</td>\n",
       "      <td>1</td>\n",
       "      <td>S1</td>\n",
       "      <td>L3</td>\n",
       "      <td>R1</td>\n",
       "      <td>2018-01-01</td>\n",
       "      <td>1</td>\n",
       "      <td>Yes</td>\n",
       "      <td>9</td>\n",
       "      <td>7011.84</td>\n",
       "    </tr>\n",
       "    <tr>\n",
       "      <th>1</th>\n",
       "      <td>T1000002</td>\n",
       "      <td>253</td>\n",
       "      <td>S4</td>\n",
       "      <td>L2</td>\n",
       "      <td>R1</td>\n",
       "      <td>2018-01-01</td>\n",
       "      <td>1</td>\n",
       "      <td>Yes</td>\n",
       "      <td>60</td>\n",
       "      <td>51789.12</td>\n",
       "    </tr>\n",
       "    <tr>\n",
       "      <th>2</th>\n",
       "      <td>T1000003</td>\n",
       "      <td>252</td>\n",
       "      <td>S3</td>\n",
       "      <td>L2</td>\n",
       "      <td>R1</td>\n",
       "      <td>2018-01-01</td>\n",
       "      <td>1</td>\n",
       "      <td>Yes</td>\n",
       "      <td>42</td>\n",
       "      <td>36868.20</td>\n",
       "    </tr>\n",
       "    <tr>\n",
       "      <th>3</th>\n",
       "      <td>T1000004</td>\n",
       "      <td>251</td>\n",
       "      <td>S2</td>\n",
       "      <td>L3</td>\n",
       "      <td>R1</td>\n",
       "      <td>2018-01-01</td>\n",
       "      <td>1</td>\n",
       "      <td>Yes</td>\n",
       "      <td>23</td>\n",
       "      <td>19715.16</td>\n",
       "    </tr>\n",
       "    <tr>\n",
       "      <th>4</th>\n",
       "      <td>T1000005</td>\n",
       "      <td>250</td>\n",
       "      <td>S2</td>\n",
       "      <td>L3</td>\n",
       "      <td>R4</td>\n",
       "      <td>2018-01-01</td>\n",
       "      <td>1</td>\n",
       "      <td>Yes</td>\n",
       "      <td>62</td>\n",
       "      <td>45614.52</td>\n",
       "    </tr>\n",
       "  </tbody>\n",
       "</table>\n",
       "</div>"
      ],
      "text/plain": [
       "         ID  Store_id Store_Type Location_Type Region_Code        Date  \\\n",
       "0  T1000001         1         S1            L3          R1  2018-01-01   \n",
       "1  T1000002       253         S4            L2          R1  2018-01-01   \n",
       "2  T1000003       252         S3            L2          R1  2018-01-01   \n",
       "3  T1000004       251         S2            L3          R1  2018-01-01   \n",
       "4  T1000005       250         S2            L3          R4  2018-01-01   \n",
       "\n",
       "   Holiday Discount  #Order     Sales  \n",
       "0        1      Yes       9   7011.84  \n",
       "1        1      Yes      60  51789.12  \n",
       "2        1      Yes      42  36868.20  \n",
       "3        1      Yes      23  19715.16  \n",
       "4        1      Yes      62  45614.52  "
      ]
     },
     "execution_count": 21,
     "metadata": {},
     "output_type": "execute_result"
    }
   ],
   "source": [
    "data = pd.read_csv('TRAIN (1).csv')\n",
    "data.head()"
   ]
  },
  {
   "cell_type": "code",
   "execution_count": 22,
   "id": "994c39e1-f978-46b9-8106-2a2dcf2ccabf",
   "metadata": {},
   "outputs": [],
   "source": [
    "#We have some Categorical features are present, for converting these categorical features into numerical I had used ordinal encoding and also i checked with nominal encoding and as compared to nominal I am getting more accuracy in ordinal encoding.\n",
    "from sklearn.preprocessing import LabelEncoder\n",
    "\n",
    "label = LabelEncoder()\n",
    "data['Store_Type'] = label.fit_transform(data['Store_Type'])\n",
    "data['Location_Type'] = label.fit_transform(data['Location_Type'])\n",
    "data['Region_Code'] = label.fit_transform(data['Region_Code'])\n",
    "\n",
    "data['Discount']= pd.get_dummies(data['Discount'])"
   ]
  },
  {
   "cell_type": "code",
   "execution_count": 23,
   "id": "199b1a2c-f78b-4161-b377-3bab4cc0d697",
   "metadata": {},
   "outputs": [],
   "source": [
    "# Date column is in format of 'y-m-d', as we know model does not understand datetime format. Lets separate date, month and year column.\n",
    "data['Year']=data['Date'].str.split('-').str[0]\n",
    "data['Month']=data['Date'].str.split('-').str[1]\n",
    "data['Date']=data['Date'].str.split('-').str[2]\n",
    "\n",
    "data['Date']=data['Date'].astype(int)\n",
    "data['Month']=data['Month'].astype(int)\n",
    "data['Year']=data['Year'].astype(int)"
   ]
  },
  {
   "cell_type": "code",
   "execution_count": 25,
   "id": "d65f6c61-11b9-43ba-b121-2d052f0a3c38",
   "metadata": {},
   "outputs": [],
   "source": [
    "# Assign Dependent and independent features.\n",
    "x = data.drop(['Store_id','Sales','#Order','ID'],axis = 1)\n",
    "y = data.loc[:,['Sales']]"
   ]
  },
  {
   "cell_type": "code",
   "execution_count": 27,
   "id": "045c957c-656b-494e-b58f-7b10dc708248",
   "metadata": {},
   "outputs": [
    {
     "data": {
      "text/plain": [
       "array([[-0.92021484,  0.77942573, -1.11825327, ..., -1.11106042,\n",
       "        -0.64319408, -1.32317704],\n",
       "       [ 1.48464256, -0.03573298, -1.11825327, ..., -1.11106042,\n",
       "        -0.64319408, -1.32317704],\n",
       "       [ 0.68302343, -0.03573298, -1.11825327, ..., -1.11106042,\n",
       "        -0.64319408, -1.32317704],\n",
       "       ...,\n",
       "       [-0.92021484,  0.77942573, -0.16236933, ...,  0.90004106,\n",
       "         1.55474067, -0.14651292],\n",
       "       [ 0.68302343, -0.8508917 , -0.16236933, ..., -1.11106042,\n",
       "         1.55474067, -0.14651292],\n",
       "       [-0.11859571, -0.8508917 , -1.11825327, ...,  0.90004106,\n",
       "         1.55474067, -0.14651292]])"
      ]
     },
     "execution_count": 27,
     "metadata": {},
     "output_type": "execute_result"
    }
   ],
   "source": [
    "#some features having different units, normalize the feature. \n",
    "from sklearn.preprocessing import StandardScaler\n",
    "std = StandardScaler()\n",
    "std_x = std.fit_transform(x)\n",
    "std_x"
   ]
  },
  {
   "cell_type": "code",
   "execution_count": 28,
   "id": "6c9c6572-8cdb-4476-85fa-862c71398cdd",
   "metadata": {},
   "outputs": [
    {
     "name": "stdout",
     "output_type": "stream",
     "text": [
      "Shape of Training Xs:(150672, 8)\n",
      "Shape of Test Xs:(37668, 8)\n",
      "Shape of Training y:(150672, 1)\n",
      "Shape of Test y:(37668, 1)\n"
     ]
    }
   ],
   "source": [
    "#for validating data we have different methods , lets check with train-test-split.\n",
    "from sklearn.model_selection import train_test_split\n",
    "\n",
    "# Train & Test split\n",
    "x_train, x_test, y_train, y_test = train_test_split(std_x,y,test_size=0.20,\n",
    "                                                    random_state=42)\n",
    "\n",
    "print('Shape of Training Xs:{}'.format(x_train.shape))\n",
    "print('Shape of Test Xs:{}'.format(x_test.shape))\n",
    "print('Shape of Training y:{}'.format(y_train.shape))\n",
    "print('Shape of Test y:{}'.format(y_test.shape))"
   ]
  },
  {
   "cell_type": "markdown",
   "id": "568389cf-1a45-4554-b401-ddb610e741b5",
   "metadata": {},
   "source": [
    "# 4.Build model with hyperparameter tuning"
   ]
  },
  {
   "cell_type": "code",
   "execution_count": 29,
   "id": "097b13fa-e12c-48c3-aa98-4286060b58ef",
   "metadata": {},
   "outputs": [],
   "source": [
    "from sklearn.model_selection import RandomizedSearchCV\n",
    "#Randomized Search CV\n",
    "alpha = [1,4,7,10,0.1,15]\n",
    "\n",
    "max_iter = [1500,2000,2500,3000]\n",
    "\n",
    "random_state = [20,30,40,50,35,21]"
   ]
  },
  {
   "cell_type": "code",
   "execution_count": 30,
   "id": "243422e6-e1a4-479d-a2f4-1eb85741fb78",
   "metadata": {},
   "outputs": [
    {
     "name": "stdout",
     "output_type": "stream",
     "text": [
      "{'alpha': [1, 4, 7, 10, 0.1, 15], 'max_iter': [1500, 2000, 2500, 3000], 'random_state': [20, 30, 40, 50, 35, 21]}\n"
     ]
    }
   ],
   "source": [
    "# Create the random grid\n",
    "random_grid = {'alpha': alpha,\n",
    "               'max_iter': max_iter,\n",
    "               'random_state': random_state,\n",
    "               }\n",
    "\n",
    "print(random_grid)"
   ]
  },
  {
   "cell_type": "code",
   "execution_count": 31,
   "id": "d477cff2-99dd-4901-9474-57f1fefb3a84",
   "metadata": {},
   "outputs": [],
   "source": [
    "from sklearn.linear_model import Lasso\n",
    "model = Lasso()"
   ]
  },
  {
   "cell_type": "code",
   "execution_count": 70,
   "id": "485ccb4e-ce04-4caf-80e6-22c9139946e1",
   "metadata": {},
   "outputs": [],
   "source": [
    "# Random search of parameters, using 3 fold cross validation, \n",
    "# search across 50 different combinations\n",
    "rf_random = RandomizedSearchCV(estimator = model, param_distributions = random_grid,scoring='neg_mean_squared_error', n_iter = 50, cv = 3, verbose=2, random_state=42, n_jobs = 1)"
   ]
  },
  {
   "cell_type": "code",
   "execution_count": 71,
   "id": "8b00003c-e603-499a-ade6-7d3e7154672e",
   "metadata": {},
   "outputs": [
    {
     "name": "stdout",
     "output_type": "stream",
     "text": [
      "Fitting 3 folds for each of 50 candidates, totalling 150 fits\n",
      "[CV] END ..........alpha=0.1, max_iter=3000, random_state=50; total time=   0.0s\n",
      "[CV] END ..........alpha=0.1, max_iter=3000, random_state=50; total time=   0.0s\n",
      "[CV] END ..........alpha=0.1, max_iter=3000, random_state=50; total time=   0.0s\n",
      "[CV] END ............alpha=1, max_iter=3000, random_state=30; total time=   0.0s\n",
      "[CV] END ............alpha=1, max_iter=3000, random_state=30; total time=   0.0s\n",
      "[CV] END ............alpha=1, max_iter=3000, random_state=30; total time=   0.0s\n",
      "[CV] END ...........alpha=10, max_iter=2000, random_state=35; total time=   0.0s\n",
      "[CV] END ...........alpha=10, max_iter=2000, random_state=35; total time=   0.0s\n",
      "[CV] END ...........alpha=10, max_iter=2000, random_state=35; total time=   0.0s\n",
      "[CV] END ..........alpha=0.1, max_iter=1500, random_state=30; total time=   0.0s\n",
      "[CV] END ..........alpha=0.1, max_iter=1500, random_state=30; total time=   0.0s\n",
      "[CV] END ..........alpha=0.1, max_iter=1500, random_state=30; total time=   0.0s\n",
      "[CV] END ............alpha=7, max_iter=2000, random_state=40; total time=   0.0s\n",
      "[CV] END ............alpha=7, max_iter=2000, random_state=40; total time=   0.0s\n",
      "[CV] END ............alpha=7, max_iter=2000, random_state=40; total time=   0.0s\n",
      "[CV] END ............alpha=1, max_iter=2500, random_state=20; total time=   0.0s\n",
      "[CV] END ............alpha=1, max_iter=2500, random_state=20; total time=   0.0s\n",
      "[CV] END ............alpha=1, max_iter=2500, random_state=20; total time=   0.0s\n",
      "[CV] END ...........alpha=15, max_iter=2500, random_state=20; total time=   0.0s\n",
      "[CV] END ...........alpha=15, max_iter=2500, random_state=20; total time=   0.0s\n",
      "[CV] END ...........alpha=15, max_iter=2500, random_state=20; total time=   0.0s\n",
      "[CV] END ............alpha=7, max_iter=2500, random_state=21; total time=   0.0s\n",
      "[CV] END ............alpha=7, max_iter=2500, random_state=21; total time=   0.0s\n",
      "[CV] END ............alpha=7, max_iter=2500, random_state=21; total time=   0.0s\n",
      "[CV] END ............alpha=7, max_iter=3000, random_state=20; total time=   0.0s\n",
      "[CV] END ............alpha=7, max_iter=3000, random_state=20; total time=   0.0s\n",
      "[CV] END ............alpha=7, max_iter=3000, random_state=20; total time=   0.0s\n",
      "[CV] END ............alpha=1, max_iter=3000, random_state=20; total time=   0.0s\n",
      "[CV] END ............alpha=1, max_iter=3000, random_state=20; total time=   0.0s\n",
      "[CV] END ............alpha=1, max_iter=3000, random_state=20; total time=   0.0s\n",
      "[CV] END ............alpha=7, max_iter=1500, random_state=50; total time=   0.0s\n",
      "[CV] END ............alpha=7, max_iter=1500, random_state=50; total time=   0.0s\n",
      "[CV] END ............alpha=7, max_iter=1500, random_state=50; total time=   0.0s\n",
      "[CV] END ...........alpha=10, max_iter=2000, random_state=20; total time=   0.0s\n",
      "[CV] END ...........alpha=10, max_iter=2000, random_state=20; total time=   0.0s\n",
      "[CV] END ...........alpha=10, max_iter=2000, random_state=20; total time=   0.0s\n",
      "[CV] END ...........alpha=10, max_iter=3000, random_state=35; total time=   0.0s\n",
      "[CV] END ...........alpha=10, max_iter=3000, random_state=35; total time=   0.0s\n",
      "[CV] END ...........alpha=10, max_iter=3000, random_state=35; total time=   0.0s\n",
      "[CV] END ...........alpha=15, max_iter=2500, random_state=30; total time=   0.0s\n",
      "[CV] END ...........alpha=15, max_iter=2500, random_state=30; total time=   0.0s\n",
      "[CV] END ...........alpha=15, max_iter=2500, random_state=30; total time=   0.0s\n",
      "[CV] END ..........alpha=0.1, max_iter=1500, random_state=35; total time=   0.0s\n",
      "[CV] END ..........alpha=0.1, max_iter=1500, random_state=35; total time=   0.0s\n",
      "[CV] END ..........alpha=0.1, max_iter=1500, random_state=35; total time=   0.0s\n",
      "[CV] END ............alpha=7, max_iter=2500, random_state=35; total time=   0.0s\n",
      "[CV] END ............alpha=7, max_iter=2500, random_state=35; total time=   0.0s\n",
      "[CV] END ............alpha=7, max_iter=2500, random_state=35; total time=   0.0s\n",
      "[CV] END ............alpha=4, max_iter=1500, random_state=50; total time=   0.0s\n",
      "[CV] END ............alpha=4, max_iter=1500, random_state=50; total time=   0.0s\n",
      "[CV] END ............alpha=4, max_iter=1500, random_state=50; total time=   0.0s\n",
      "[CV] END ............alpha=7, max_iter=3000, random_state=50; total time=   0.0s\n",
      "[CV] END ............alpha=7, max_iter=3000, random_state=50; total time=   0.0s\n",
      "[CV] END ............alpha=7, max_iter=3000, random_state=50; total time=   0.0s\n",
      "[CV] END ...........alpha=15, max_iter=1500, random_state=21; total time=   0.0s\n",
      "[CV] END ...........alpha=15, max_iter=1500, random_state=21; total time=   0.0s\n",
      "[CV] END ...........alpha=15, max_iter=1500, random_state=21; total time=   0.0s\n",
      "[CV] END ...........alpha=10, max_iter=1500, random_state=30; total time=   0.0s\n",
      "[CV] END ...........alpha=10, max_iter=1500, random_state=30; total time=   0.0s\n",
      "[CV] END ...........alpha=10, max_iter=1500, random_state=30; total time=   0.0s\n",
      "[CV] END ............alpha=1, max_iter=2000, random_state=21; total time=   0.0s\n",
      "[CV] END ............alpha=1, max_iter=2000, random_state=21; total time=   0.0s\n",
      "[CV] END ............alpha=1, max_iter=2000, random_state=21; total time=   0.0s\n",
      "[CV] END ..........alpha=0.1, max_iter=3000, random_state=21; total time=   0.0s\n",
      "[CV] END ..........alpha=0.1, max_iter=3000, random_state=21; total time=   0.0s\n",
      "[CV] END ..........alpha=0.1, max_iter=3000, random_state=21; total time=   0.0s\n",
      "[CV] END ..........alpha=0.1, max_iter=2500, random_state=40; total time=   0.0s\n",
      "[CV] END ..........alpha=0.1, max_iter=2500, random_state=40; total time=   0.0s\n",
      "[CV] END ..........alpha=0.1, max_iter=2500, random_state=40; total time=   0.0s\n",
      "[CV] END ..........alpha=0.1, max_iter=2500, random_state=21; total time=   0.0s\n",
      "[CV] END ..........alpha=0.1, max_iter=2500, random_state=21; total time=   0.0s\n",
      "[CV] END ..........alpha=0.1, max_iter=2500, random_state=21; total time=   0.0s\n",
      "[CV] END ............alpha=7, max_iter=2000, random_state=30; total time=   0.0s\n",
      "[CV] END ............alpha=7, max_iter=2000, random_state=30; total time=   0.0s\n",
      "[CV] END ............alpha=7, max_iter=2000, random_state=30; total time=   0.0s\n",
      "[CV] END ............alpha=4, max_iter=3000, random_state=50; total time=   0.0s\n",
      "[CV] END ............alpha=4, max_iter=3000, random_state=50; total time=   0.0s\n",
      "[CV] END ............alpha=4, max_iter=3000, random_state=50; total time=   0.0s\n",
      "[CV] END ............alpha=1, max_iter=2000, random_state=50; total time=   0.0s\n",
      "[CV] END ............alpha=1, max_iter=2000, random_state=50; total time=   0.0s\n",
      "[CV] END ............alpha=1, max_iter=2000, random_state=50; total time=   0.0s\n",
      "[CV] END ............alpha=1, max_iter=1500, random_state=35; total time=   0.0s\n",
      "[CV] END ............alpha=1, max_iter=1500, random_state=35; total time=   0.0s\n",
      "[CV] END ............alpha=1, max_iter=1500, random_state=35; total time=   0.0s\n",
      "[CV] END ............alpha=4, max_iter=1500, random_state=40; total time=   0.0s\n",
      "[CV] END ............alpha=4, max_iter=1500, random_state=40; total time=   0.0s\n",
      "[CV] END ............alpha=4, max_iter=1500, random_state=40; total time=   0.0s\n",
      "[CV] END ...........alpha=15, max_iter=1500, random_state=35; total time=   0.0s\n",
      "[CV] END ...........alpha=15, max_iter=1500, random_state=35; total time=   0.0s\n",
      "[CV] END ...........alpha=15, max_iter=1500, random_state=35; total time=   0.0s\n",
      "[CV] END ............alpha=4, max_iter=2000, random_state=30; total time=   0.0s\n",
      "[CV] END ............alpha=4, max_iter=2000, random_state=30; total time=   0.0s\n",
      "[CV] END ............alpha=4, max_iter=2000, random_state=30; total time=   0.0s\n",
      "[CV] END ..........alpha=0.1, max_iter=1500, random_state=40; total time=   0.0s\n",
      "[CV] END ..........alpha=0.1, max_iter=1500, random_state=40; total time=   0.0s\n",
      "[CV] END ..........alpha=0.1, max_iter=1500, random_state=40; total time=   0.0s\n",
      "[CV] END ............alpha=4, max_iter=2500, random_state=20; total time=   0.0s\n",
      "[CV] END ............alpha=4, max_iter=2500, random_state=20; total time=   0.0s\n",
      "[CV] END ............alpha=4, max_iter=2500, random_state=20; total time=   0.0s\n",
      "[CV] END ............alpha=1, max_iter=2500, random_state=35; total time=   0.0s\n",
      "[CV] END ............alpha=1, max_iter=2500, random_state=35; total time=   0.0s\n",
      "[CV] END ............alpha=1, max_iter=2500, random_state=35; total time=   0.0s\n",
      "[CV] END ............alpha=1, max_iter=2000, random_state=35; total time=   0.0s\n",
      "[CV] END ............alpha=1, max_iter=2000, random_state=35; total time=   0.0s\n",
      "[CV] END ............alpha=1, max_iter=2000, random_state=35; total time=   0.0s\n",
      "[CV] END ...........alpha=10, max_iter=3000, random_state=50; total time=   0.0s\n",
      "[CV] END ...........alpha=10, max_iter=3000, random_state=50; total time=   0.0s\n",
      "[CV] END ...........alpha=10, max_iter=3000, random_state=50; total time=   0.0s\n",
      "[CV] END ..........alpha=0.1, max_iter=2500, random_state=50; total time=   0.0s\n",
      "[CV] END ..........alpha=0.1, max_iter=2500, random_state=50; total time=   0.0s\n",
      "[CV] END ..........alpha=0.1, max_iter=2500, random_state=50; total time=   0.0s\n",
      "[CV] END ............alpha=4, max_iter=3000, random_state=20; total time=   0.0s\n",
      "[CV] END ............alpha=4, max_iter=3000, random_state=20; total time=   0.0s\n",
      "[CV] END ............alpha=4, max_iter=3000, random_state=20; total time=   0.0s\n",
      "[CV] END ..........alpha=0.1, max_iter=3000, random_state=35; total time=   0.0s\n",
      "[CV] END ..........alpha=0.1, max_iter=3000, random_state=35; total time=   0.0s\n",
      "[CV] END ..........alpha=0.1, max_iter=3000, random_state=35; total time=   0.0s\n",
      "[CV] END ...........alpha=15, max_iter=2000, random_state=30; total time=   0.0s\n",
      "[CV] END ...........alpha=15, max_iter=2000, random_state=30; total time=   0.0s\n",
      "[CV] END ...........alpha=15, max_iter=2000, random_state=30; total time=   0.0s\n",
      "[CV] END ..........alpha=0.1, max_iter=1500, random_state=20; total time=   0.0s\n",
      "[CV] END ..........alpha=0.1, max_iter=1500, random_state=20; total time=   0.0s\n",
      "[CV] END ..........alpha=0.1, max_iter=1500, random_state=20; total time=   0.0s\n",
      "[CV] END ............alpha=7, max_iter=2500, random_state=20; total time=   0.0s\n",
      "[CV] END ............alpha=7, max_iter=2500, random_state=20; total time=   0.0s\n",
      "[CV] END ............alpha=7, max_iter=2500, random_state=20; total time=   0.0s\n",
      "[CV] END ............alpha=1, max_iter=1500, random_state=20; total time=   0.0s\n",
      "[CV] END ............alpha=1, max_iter=1500, random_state=20; total time=   0.0s\n",
      "[CV] END ............alpha=1, max_iter=1500, random_state=20; total time=   0.0s\n",
      "[CV] END ...........alpha=10, max_iter=2500, random_state=20; total time=   0.0s\n",
      "[CV] END ...........alpha=10, max_iter=2500, random_state=20; total time=   0.0s\n",
      "[CV] END ...........alpha=10, max_iter=2500, random_state=20; total time=   0.0s\n",
      "[CV] END ............alpha=4, max_iter=1500, random_state=35; total time=   0.0s\n",
      "[CV] END ............alpha=4, max_iter=1500, random_state=35; total time=   0.0s\n",
      "[CV] END ............alpha=4, max_iter=1500, random_state=35; total time=   0.0s\n",
      "[CV] END ............alpha=4, max_iter=2500, random_state=35; total time=   0.0s\n",
      "[CV] END ............alpha=4, max_iter=2500, random_state=35; total time=   0.0s\n",
      "[CV] END ............alpha=4, max_iter=2500, random_state=35; total time=   0.0s\n",
      "[CV] END ...........alpha=10, max_iter=2500, random_state=40; total time=   0.0s\n",
      "[CV] END ...........alpha=10, max_iter=2500, random_state=40; total time=   0.0s\n",
      "[CV] END ...........alpha=10, max_iter=2500, random_state=40; total time=   0.0s\n",
      "[CV] END ............alpha=4, max_iter=1500, random_state=20; total time=   0.0s\n",
      "[CV] END ............alpha=4, max_iter=1500, random_state=20; total time=   0.0s\n",
      "[CV] END ............alpha=4, max_iter=1500, random_state=20; total time=   0.0s\n",
      "[CV] END ............alpha=4, max_iter=1500, random_state=30; total time=   0.0s\n",
      "[CV] END ............alpha=4, max_iter=1500, random_state=30; total time=   0.0s\n",
      "[CV] END ............alpha=4, max_iter=1500, random_state=30; total time=   0.0s\n",
      "[CV] END ............alpha=1, max_iter=3000, random_state=21; total time=   0.0s\n",
      "[CV] END ............alpha=1, max_iter=3000, random_state=21; total time=   0.0s\n",
      "[CV] END ............alpha=1, max_iter=3000, random_state=21; total time=   0.0s\n"
     ]
    },
    {
     "data": {
      "text/plain": [
       "RandomizedSearchCV(cv=3,\n",
       "                   estimator=Lasso(alpha=0.1, max_iter=3000, random_state=50),\n",
       "                   n_iter=50, n_jobs=1,\n",
       "                   param_distributions={'alpha': [1, 4, 7, 10, 0.1, 15],\n",
       "                                        'max_iter': [1500, 2000, 2500, 3000],\n",
       "                                        'random_state': [20, 30, 40, 50, 35,\n",
       "                                                         21]},\n",
       "                   random_state=42, scoring='neg_mean_squared_error',\n",
       "                   verbose=2)"
      ]
     },
     "execution_count": 71,
     "metadata": {},
     "output_type": "execute_result"
    }
   ],
   "source": [
    "rf_random.fit(x_train,y_train)"
   ]
  },
  {
   "cell_type": "code",
   "execution_count": 72,
   "id": "ada6ae91-5963-4d04-aade-2058e410f778",
   "metadata": {},
   "outputs": [
    {
     "data": {
      "text/plain": [
       "{'random_state': 50, 'max_iter': 3000, 'alpha': 0.1}"
      ]
     },
     "execution_count": 72,
     "metadata": {},
     "output_type": "execute_result"
    }
   ],
   "source": [
    "#Check best parameter using hyperparameter.\n",
    "rf_random.best_params_"
   ]
  },
  {
   "cell_type": "code",
   "execution_count": 81,
   "id": "3d3d59af-5e92-4b7d-9d0e-a19adf9a0885",
   "metadata": {},
   "outputs": [],
   "source": [
    "#Check Accuracy on best parameter and predict y value for test data.\n",
    "model = Lasso(random_state= 50, max_iter =  3000, alpha= 0.1)\n",
    "model.fit(x_train,y_train)\n",
    "score = model.score(x_test,y_test)\n",
    "y_predicted = model.predict(x_test)\n"
   ]
  },
  {
   "cell_type": "code",
   "execution_count": 82,
   "id": "c3a42642-8afc-4770-8658-bbf8699205c3",
   "metadata": {},
   "outputs": [
    {
     "data": {
      "text/plain": [
       "0.13584991548405945"
      ]
     },
     "execution_count": 82,
     "metadata": {},
     "output_type": "execute_result"
    }
   ],
   "source": [
    "from sklearn.metrics import mean_squared_log_error\n",
    "mean_squared_log_error(y_test,y_predicted)"
   ]
  },
  {
   "cell_type": "markdown",
   "id": "10f617fb-f42f-4e7a-abe8-0094d6bf5328",
   "metadata": {},
   "source": [
    "- Add test data, apply model on test data and check MSLE. before applying perprocess data first which was done on training data.\n",
    "-  Now perform same operations which we already perform on training data and predict sales values"
   ]
  },
  {
   "cell_type": "code",
   "execution_count": 55,
   "id": "b5a354d2-7349-4992-a0b3-5d8c9096e072",
   "metadata": {},
   "outputs": [
    {
     "data": {
      "text/html": [
       "<div>\n",
       "<style scoped>\n",
       "    .dataframe tbody tr th:only-of-type {\n",
       "        vertical-align: middle;\n",
       "    }\n",
       "\n",
       "    .dataframe tbody tr th {\n",
       "        vertical-align: top;\n",
       "    }\n",
       "\n",
       "    .dataframe thead th {\n",
       "        text-align: right;\n",
       "    }\n",
       "</style>\n",
       "<table border=\"1\" class=\"dataframe\">\n",
       "  <thead>\n",
       "    <tr style=\"text-align: right;\">\n",
       "      <th></th>\n",
       "      <th>ID</th>\n",
       "      <th>Store_id</th>\n",
       "      <th>Store_Type</th>\n",
       "      <th>Location_Type</th>\n",
       "      <th>Region_Code</th>\n",
       "      <th>Date</th>\n",
       "      <th>Holiday</th>\n",
       "      <th>Discount</th>\n",
       "    </tr>\n",
       "  </thead>\n",
       "  <tbody>\n",
       "    <tr>\n",
       "      <th>0</th>\n",
       "      <td>T1188341</td>\n",
       "      <td>171</td>\n",
       "      <td>S4</td>\n",
       "      <td>L2</td>\n",
       "      <td>R3</td>\n",
       "      <td>2019-06-01</td>\n",
       "      <td>0</td>\n",
       "      <td>No</td>\n",
       "    </tr>\n",
       "    <tr>\n",
       "      <th>1</th>\n",
       "      <td>T1188342</td>\n",
       "      <td>172</td>\n",
       "      <td>S1</td>\n",
       "      <td>L1</td>\n",
       "      <td>R1</td>\n",
       "      <td>2019-06-01</td>\n",
       "      <td>0</td>\n",
       "      <td>No</td>\n",
       "    </tr>\n",
       "    <tr>\n",
       "      <th>2</th>\n",
       "      <td>T1188343</td>\n",
       "      <td>173</td>\n",
       "      <td>S4</td>\n",
       "      <td>L2</td>\n",
       "      <td>R1</td>\n",
       "      <td>2019-06-01</td>\n",
       "      <td>0</td>\n",
       "      <td>No</td>\n",
       "    </tr>\n",
       "    <tr>\n",
       "      <th>3</th>\n",
       "      <td>T1188344</td>\n",
       "      <td>174</td>\n",
       "      <td>S1</td>\n",
       "      <td>L1</td>\n",
       "      <td>R4</td>\n",
       "      <td>2019-06-01</td>\n",
       "      <td>0</td>\n",
       "      <td>No</td>\n",
       "    </tr>\n",
       "    <tr>\n",
       "      <th>4</th>\n",
       "      <td>T1188345</td>\n",
       "      <td>170</td>\n",
       "      <td>S1</td>\n",
       "      <td>L1</td>\n",
       "      <td>R2</td>\n",
       "      <td>2019-06-01</td>\n",
       "      <td>0</td>\n",
       "      <td>No</td>\n",
       "    </tr>\n",
       "  </tbody>\n",
       "</table>\n",
       "</div>"
      ],
      "text/plain": [
       "         ID  Store_id Store_Type Location_Type Region_Code        Date  \\\n",
       "0  T1188341       171         S4            L2          R3  2019-06-01   \n",
       "1  T1188342       172         S1            L1          R1  2019-06-01   \n",
       "2  T1188343       173         S4            L2          R1  2019-06-01   \n",
       "3  T1188344       174         S1            L1          R4  2019-06-01   \n",
       "4  T1188345       170         S1            L1          R2  2019-06-01   \n",
       "\n",
       "   Holiday Discount  \n",
       "0        0       No  \n",
       "1        0       No  \n",
       "2        0       No  \n",
       "3        0       No  \n",
       "4        0       No  "
      ]
     },
     "execution_count": 55,
     "metadata": {},
     "output_type": "execute_result"
    }
   ],
   "source": [
    "# Add test data.\n",
    "test = pd.read_csv(\"TEST_FINAL.csv\")\n",
    "test.head()"
   ]
  },
  {
   "cell_type": "code",
   "execution_count": 56,
   "id": "d171e3a7-79c8-4616-9935-4a0202b39a63",
   "metadata": {},
   "outputs": [],
   "source": [
    "test['Year']=test['Date'].str.split('-').str[0]\n",
    "test['Month']=test['Date'].str.split('-').str[1]\n",
    "test['Date']=test['Date'].str.split('-').str[2]\n",
    "\n",
    "test['Date']=test['Date'].astype(int)\n",
    "test['Month']=test['Month'].astype(int)\n",
    "test['Year']=test['Year'].astype(int)"
   ]
  },
  {
   "cell_type": "code",
   "execution_count": 57,
   "id": "6d60c74b-f142-425b-a8cf-9ffb065ceb17",
   "metadata": {},
   "outputs": [],
   "source": [
    "test= test.drop(['Store_id','ID'],axis = 1)\n"
   ]
  },
  {
   "cell_type": "code",
   "execution_count": 58,
   "id": "4e2868a1-0c2b-40ff-aad8-9e712105cf4f",
   "metadata": {},
   "outputs": [],
   "source": [
    "test['Store_Type'] = label.fit_transform(test['Store_Type'])\n",
    "test['Location_Type'] = label.fit_transform(test['Location_Type'])\n",
    "test['Region_Code'] = label.fit_transform(test['Region_Code'])\n",
    "\n",
    "test['Discount']= pd.get_dummies(test['Discount'])\n"
   ]
  },
  {
   "cell_type": "code",
   "execution_count": 60,
   "id": "8ac6fe32-2e74-4230-936d-145e9e70ee71",
   "metadata": {},
   "outputs": [
    {
     "data": {
      "text/plain": [
       "array([[ 1.48464256, -0.03573298,  0.79351462, ...,  0.86204991,\n",
       "         0.        , -1.01653005],\n",
       "       [-0.92021484, -0.8508917 , -1.11825327, ...,  0.86204991,\n",
       "         0.        , -1.01653005],\n",
       "       [ 1.48464256, -0.03573298, -1.11825327, ...,  0.86204991,\n",
       "         0.        , -1.01653005],\n",
       "       ...,\n",
       "       [-0.92021484, -0.8508917 ,  0.79351462, ..., -1.16002565,\n",
       "         0.        ,  0.98373875],\n",
       "       [-0.92021484, -0.8508917 ,  1.74939856, ...,  0.86204991,\n",
       "         0.        ,  0.98373875],\n",
       "       [-0.11859571, -0.8508917 , -0.16236933, ...,  0.86204991,\n",
       "         0.        ,  0.98373875]])"
      ]
     },
     "execution_count": 60,
     "metadata": {},
     "output_type": "execute_result"
    }
   ],
   "source": [
    "std_test = std.fit_transform(test)\n",
    "std_test"
   ]
  },
  {
   "cell_type": "code",
   "execution_count": 61,
   "id": "709f2379-71ac-4fcc-b5b0-7380e397d33f",
   "metadata": {},
   "outputs": [
    {
     "data": {
      "text/plain": [
       "array([51073.27068013, 35133.68870732, 52020.05243237, ...,\n",
       "       45373.35359183, 32710.77755379, 40488.60518505])"
      ]
     },
     "execution_count": 61,
     "metadata": {},
     "output_type": "execute_result"
    }
   ],
   "source": [
    "Sales = model.predict(std_test)\n",
    "Sales"
   ]
  },
  {
   "cell_type": "code",
   "execution_count": 65,
   "id": "2dc7bc45-78a8-4db6-9d76-b2d014954541",
   "metadata": {},
   "outputs": [],
   "source": [
    "sales_values = {'Sales':Sales}\n",
    "#data_frame = pd.DataFrame(sales_values,Index = ('Sales'))\n",
    "data_frame = pd.DataFrame(sales_values) \n",
    "\n",
    "data_frame.to_csv('LASSO_sales.csv')"
   ]
  },
  {
   "cell_type": "code",
   "execution_count": 63,
   "id": "e75700c0-dad2-4e3b-aaef-433278ba1f92",
   "metadata": {},
   "outputs": [
    {
     "data": {
      "text/plain": [
       "0        42275\n",
       "1        42275\n",
       "2        42275\n",
       "3        42275\n",
       "4        42275\n",
       "         ...  \n",
       "22260    42275\n",
       "22261    42275\n",
       "22262    42275\n",
       "22263    42275\n",
       "22264    42275\n",
       "Name: Sales, Length: 22265, dtype: int64"
      ]
     },
     "execution_count": 63,
     "metadata": {},
     "output_type": "execute_result"
    }
   ],
   "source": [
    "sample = pd.read_csv('SAMPLE.csv')\n",
    "sales = sample.iloc[:,-1]\n",
    "sales"
   ]
  },
  {
   "cell_type": "code",
   "execution_count": 79,
   "id": "0083fe89-cd87-4c6a-b1b9-cfa6a0093597",
   "metadata": {},
   "outputs": [
    {
     "data": {
      "text/plain": [
       "0.09201445998929621"
      ]
     },
     "execution_count": 79,
     "metadata": {},
     "output_type": "execute_result"
    }
   ],
   "source": [
    "from sklearn.metrics import mean_squared_log_error\n",
    "mean_squared_log_error(sales,Sales)"
   ]
  },
  {
   "cell_type": "markdown",
   "id": "5c2442cb-73d4-4af5-967a-b9cde0892864",
   "metadata": {},
   "source": [
    "# Description"
   ]
  },
  {
   "cell_type": "markdown",
   "id": "0d4a0433-f1e6-4926-b2eb-342935c15768",
   "metadata": {},
   "source": [
    "#### Following points would be discussed below.\n",
    "###### -Brief on the approach.\n",
    "###### -What data-preprocessing / feature engineering ideas really worked? How did you discover them?\n",
    "###### -What does your final model look like? How did you reach it?\n",
    "\n",
    "\n",
    "### Brief on the approach\n",
    "- Whenever I see the data, firstly I will check whether data having null values, Imbalanced data,Categorical features and outliers. To check these all parameter I did visualization and using matplotlib and seaborn packages I validate above parameter that you can check in noebook.\n",
    "- After validating my approach is towards normalizing data and go for validation.Train-test-split validation method used and later go for model selction.\n",
    "- While model selection, based on data type whether data is linearly separable whether data is highly non linear based on this I checked with different algorithms and finally I Select the LASSO regression.\n",
    "- Why LASSO? because data is giving better accuracy on LASSO, also MSLE error is less as compared to other algorithms.\n",
    "\n",
    "### What data-preprocessing / feature engineering ideas really worked? How did you discover them?\n",
    "- In the data there are some Categorical values, to convert into numerical I check with nominal encoding(one_hot) and also check ordinal(label encoding) based on both the results the preferable one is label encoding that giving good accuracy with less error.\n",
    "- In Data-preprocessing, for normalizing data I uesd min-max and standard scaling. I got better accuracy and less error in Standard scaling.\n",
    "\n",
    "### What does your final model look like? How did you reach it?\n",
    "- Finally, my model is built based on good result and analytics vidhya scorecard at the last moment I tried to reduce error and achieve max Accuracy.\n",
    "- I achived final model by performing and analysing alot more other algorithms and , finally I got my final model."
   ]
  },
  {
   "cell_type": "code",
   "execution_count": null,
   "id": "7d19f583-06b7-48f4-b721-50b3d3eb27fb",
   "metadata": {},
   "outputs": [],
   "source": []
  }
 ],
 "metadata": {
  "kernelspec": {
   "display_name": "Python 3",
   "language": "python",
   "name": "python3"
  },
  "language_info": {
   "codemirror_mode": {
    "name": "ipython",
    "version": 3
   },
   "file_extension": ".py",
   "mimetype": "text/x-python",
   "name": "python",
   "nbconvert_exporter": "python",
   "pygments_lexer": "ipython3",
   "version": "3.8.8"
  }
 },
 "nbformat": 4,
 "nbformat_minor": 5
}
